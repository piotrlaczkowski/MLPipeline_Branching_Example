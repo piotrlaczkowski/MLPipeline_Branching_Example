{
 "metadata": {
  "language_info": {
   "codemirror_mode": {
    "name": "ipython",
    "version": 3
   },
   "file_extension": ".py",
   "mimetype": "text/x-python",
   "name": "python",
   "nbconvert_exporter": "python",
   "pygments_lexer": "ipython3",
   "version": "3.8.8"
  },
  "orig_nbformat": 2,
  "kernelspec": {
   "name": "python388jvsc74a57bd013c8c8ebdc7412c68e33e5678cd0875a7cefa0f1fc99bdd7d1fb09be6b726bfa",
   "display_name": "Python 3.8.8 64-bit ('dex': conda)"
  }
 },
 "nbformat": 4,
 "nbformat_minor": 2,
 "cells": [
  {
   "cell_type": "code",
   "execution_count": null,
   "metadata": {},
   "outputs": [],
   "source": [
    "# installing all requirements\n",
    "!pip install -r requirements.txt"
   ]
  },
  {
   "cell_type": "code",
   "execution_count": null,
   "metadata": {},
   "outputs": [],
   "source": [
    "# importing required packages\n",
    "import pandas as pd\n",
    "import numpy as np\n",
    "import mlflow\n",
    "from pygit2 import Repository"
   ]
  },
  {
   "cell_type": "code",
   "execution_count": null,
   "metadata": {},
   "outputs": [],
   "source": [
    "# getting current branch name for naming\n",
    "branch_name = Repository('.').head.shorthand\n",
    "print(\"pd:\", pd.__version__)\n",
    "print(\"branch_name:\", branch_name)"
   ]
  },
  {
   "cell_type": "code",
   "execution_count": null,
   "metadata": {},
   "outputs": [],
   "source": [
    "# setting up reload of all tools related modules\n",
    "%load_ext autoreload\n",
    "%autoreload 2"
   ]
  },
  {
   "cell_type": "code",
   "execution_count": null,
   "metadata": {},
   "outputs": [],
   "source": [
    "%aimport model\n",
    "%aimport tools.train_tools as tt"
   ]
  },
  {
   "cell_type": "code",
   "execution_count": null,
   "metadata": {},
   "outputs": [],
   "source": [
    "# MLFOW - tracking base info\n",
    "mlflow.set_tag(\"BRANCH\", branch_name)\n",
    "mlflow.log_artifact(\"config.py\")"
   ]
  },
  {
   "source": [
    "### DATA"
   ],
   "cell_type": "markdown",
   "metadata": {}
  },
  {
   "cell_type": "code",
   "execution_count": null,
   "metadata": {},
   "outputs": [],
   "source": [
    "# reading input data\n",
    "df = pd.read_csv(\"data/raw/data_preprocessed.csv\")"
   ]
  },
  {
   "cell_type": "code",
   "execution_count": null,
   "metadata": {},
   "outputs": [],
   "source": [
    "# data splits\n",
    "train_ds, test_ds = tt.setup_datasets(df=df)"
   ]
  },
  {
   "source": [
    "### MODEL"
   ],
   "cell_type": "markdown",
   "metadata": {}
  },
  {
   "cell_type": "code",
   "execution_count": null,
   "metadata": {},
   "outputs": [],
   "source": [
    "# defining prepricessing and model\n",
    "model = model.setup_model()"
   ]
  },
  {
   "cell_type": "code",
   "execution_count": null,
   "metadata": {},
   "outputs": [],
   "source": [
    "# setting up callbacks\n",
    "callbacks = model.setup_callbacks()"
   ]
  },
  {
   "cell_type": "code",
   "execution_count": null,
   "metadata": {},
   "outputs": [],
   "source": [
    "# plotting current architecture\n",
    "plot_architecture = model.plot_model_architecture()"
   ]
  },
  {
   "cell_type": "code",
   "execution_count": null,
   "metadata": {},
   "outputs": [],
   "source": [
    "# displaying info about the model\n",
    "model.summary()"
   ]
  },
  {
   "cell_type": "code",
   "execution_count": null,
   "metadata": {},
   "outputs": [],
   "source": [
    "# starting train tracking\n",
    "mlflow.tensorflow.autolog()"
   ]
  },
  {
   "cell_type": "code",
   "execution_count": null,
   "metadata": {},
   "outputs": [],
   "source": [
    "# SEQUENTIAL training\n",
    "model_save_name = f\"models/dex__{branch_name}\"\n",
    "\n",
    "history = tt.sequential_train(\n",
    "    model=model,\n",
    "    train_data=train_ds,\n",
    "    valid_data=test_ds,\n",
    "    callbacks=callbacks,\n",
    "    epochs=config.NR_EPOCHS,\n",
    "    _step=config.TRAIN_STEPS,\n",
    "    model_path=model_save_name\n",
    ")"
   ]
  }
 ]
}
